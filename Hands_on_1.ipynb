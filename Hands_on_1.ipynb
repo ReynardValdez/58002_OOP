{
  "nbformat": 4,
  "nbformat_minor": 0,
  "metadata": {
    "colab": {
      "provenance": [],
      "authorship_tag": "ABX9TyOqzmj0E97fspJ0rWyYeweX",
      "include_colab_link": true
    },
    "kernelspec": {
      "name": "python3",
      "display_name": "Python 3"
    },
    "language_info": {
      "name": "python"
    }
  },
  "cells": [
    {
      "cell_type": "markdown",
      "metadata": {
        "id": "view-in-github",
        "colab_type": "text"
      },
      "source": [
        "<a href=\"https://colab.research.google.com/github/ReynardValdez/58002_OOP/blob/main/Hands_on_1.ipynb\" target=\"_parent\"><img src=\"https://colab.research.google.com/assets/colab-badge.svg\" alt=\"Open In Colab\"/></a>"
      ]
    },
    {
      "cell_type": "code",
      "source": [
        "class Person:\n",
        "  def __init__(self,std,pre,mid,fin):\n",
        "    self.std = std\n",
        "    self.pre = pre\n",
        "    self.mid = mid\n",
        "    self.fin = fin\n",
        "\n",
        "  def Grade(self):\n",
        "    return (self.pre+self.mid+self.fin)/3\n",
        "\n",
        "  def display(self):\n",
        "    print(f\"{self.std} have {self.pre} for prelims, {self.mid} for midterms, and {self.fin} for finals with an avererage of {self.Grade()}\")\n",
        "\n",
        "class std1(Person):\n",
        "  def __init__(self):\n",
        "    std = \"Student 1\"\n",
        "    pre = float(input(f\"Enter grade of {std} for prelim: \"))\n",
        "    mid = float(input(f\"Enter grade of {std} for midterm: \"))\n",
        "    fin = float(input(f\"Enter grade of {std} for final: \"))\n",
        "    super().__init__(std,pre,mid,fin)\n",
        "    \n",
        "class std2(Person):\n",
        "  def __init__(self):\n",
        "    std = \"Student 2\"\n",
        "    pre = float(input(f\"Enter grade of {std} for prelim: \"))\n",
        "    mid = float(input(f\"Enter grade of {std} for midterm: \"))\n",
        "    fin = float(input(f\"Enter grade of {std} for final: \"))\n",
        "    super().__init__(std,pre,mid,fin)\n",
        "\n",
        "class std3(Person):\n",
        "  def __init__(self):\n",
        "    std = \"Student 3\"\n",
        "    pre = float(input(f\"Enter grade of {std} for prelim: \"))\n",
        "    mid = float(input(f\"Enter grade of {std} for midterm: \"))\n",
        "    fin = float(input(f\"Enter grade of {std} for final: \"))\n",
        "    super().__init__(std,pre,mid,fin)\n",
        "\n",
        "Std1 = std1()\n",
        "Std2 = std2()\n",
        "Std3 = std3()\n",
        "\n",
        "Std1.display()\n",
        "Std2.display()\n",
        "Std3.display()"
      ],
      "metadata": {
        "id": "hCVRdfPcOdF5",
        "outputId": "358d423a-626d-45e8-883b-d67e206a0f65",
        "colab": {
          "base_uri": "https://localhost:8080/"
        }
      },
      "execution_count": 44,
      "outputs": [
        {
          "output_type": "stream",
          "name": "stdout",
          "text": [
            "Enter grade of Student 1 for prelim: 78\n",
            "Enter grade of Student 1 for midterm: 75\n",
            "Enter grade of Student 1 for final: 79\n",
            "Enter grade of Student 2 for prelim: 85\n",
            "Enter grade of Student 2 for midterm: 84\n",
            "Enter grade of Student 2 for final: 86\n",
            "Enter grade of Student 3 for prelim: 87\n",
            "Enter grade of Student 3 for midterm: 88\n",
            "Enter grade of Student 3 for final: 89\n",
            "Student 1 have 78.0 for prelims, 75.0 for midterms, and 79.0 for finals with an avererage of 77.33333333333333\n",
            "Student 2 have 85.0 for prelims, 84.0 for midterms, and 86.0 for finals with an avererage of 85.0\n",
            "Student 3 have 87.0 for prelims, 88.0 for midterms, and 89.0 for finals with an avererage of 88.0\n"
          ]
        }
      ]
    }
  ]
}