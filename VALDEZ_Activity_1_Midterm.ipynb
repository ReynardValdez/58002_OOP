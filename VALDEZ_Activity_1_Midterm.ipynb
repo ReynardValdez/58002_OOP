{
  "nbformat": 4,
  "nbformat_minor": 0,
  "metadata": {
    "colab": {
      "provenance": [],
      "authorship_tag": "ABX9TyPvLXYKq6Hj3/yiw7ntaBP5",
      "include_colab_link": true
    },
    "kernelspec": {
      "name": "python3",
      "display_name": "Python 3"
    },
    "language_info": {
      "name": "python"
    }
  },
  "cells": [
    {
      "cell_type": "markdown",
      "metadata": {
        "id": "view-in-github",
        "colab_type": "text"
      },
      "source": [
        "<a href=\"https://colab.research.google.com/github/ReynardValdez/58002_OOP/blob/main/VALDEZ_Activity_1_Midterm.ipynb\" target=\"_parent\"><img src=\"https://colab.research.google.com/assets/colab-badge.svg\" alt=\"Open In Colab\"/></a>"
      ]
    },
    {
      "cell_type": "code",
      "execution_count": 6,
      "metadata": {
        "colab": {
          "base_uri": "https://localhost:8080/"
        },
        "id": "b5M6RT_TRNwV",
        "outputId": "189ba3ad-b099-4ffd-cdd6-cda1f3b2759b"
      },
      "outputs": [
        {
          "output_type": "stream",
          "name": "stdout",
          "text": [
            "Hello, my name is Reynard James M. Valdez 19 Adamson University\n"
          ]
        }
      ],
      "source": [
        " class Persons:\n",
        "   def __init__(self, name, age, school):\n",
        "     self.name = name\n",
        "     self.age = age\n",
        "     self.school = school\n",
        "\n",
        "   def myfunction(self):\n",
        "     print(\"Hello, my name is\", self.name, self.age, self.school)\n",
        "\n",
        "people = Persons(\"Reynard James M. Valdez\", 19, \"Adamson University\")\n",
        "people.myfunction()"
      ]
    }
  ]
}