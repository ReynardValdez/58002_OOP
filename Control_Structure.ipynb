{
  "nbformat": 4,
  "nbformat_minor": 0,
  "metadata": {
    "colab": {
      "provenance": [],
      "authorship_tag": "ABX9TyOQqWpDG6u4GYmxXWPkTsKd",
      "include_colab_link": true
    },
    "kernelspec": {
      "name": "python3",
      "display_name": "Python 3"
    },
    "language_info": {
      "name": "python"
    }
  },
  "cells": [
    {
      "cell_type": "markdown",
      "metadata": {
        "id": "view-in-github",
        "colab_type": "text"
      },
      "source": [
        "<a href=\"https://colab.research.google.com/github/ReynardValdez/58002_OOP/blob/main/Control_Structure.ipynb\" target=\"_parent\"><img src=\"https://colab.research.google.com/assets/colab-badge.svg\" alt=\"Open In Colab\"/></a>"
      ]
    },
    {
      "cell_type": "code",
      "execution_count": 1,
      "metadata": {
        "colab": {
          "base_uri": "https://localhost:8080/"
        },
        "id": "3t7ix9bDkKL-",
        "outputId": "6341e45e-846a-4a38-9676-e57cbc5cb9f9"
      },
      "outputs": [
        {
          "output_type": "stream",
          "name": "stdout",
          "text": [
            "b is greater than a\n"
          ]
        }
      ],
      "source": [
        "a = 12\n",
        "b = 100\n",
        "if b > a:\n",
        "  print(\"b is greater than a\")"
      ]
    },
    {
      "cell_type": "code",
      "source": [
        "a = 12\n",
        "b = 12\n",
        "if b > a:\n",
        "  print(\"b is greater than a\")\n",
        "elif a==b:\n",
        "  print(\"a and b are equal\")"
      ],
      "metadata": {
        "colab": {
          "base_uri": "https://localhost:8080/"
        },
        "id": "3cgF2Z-bou_0",
        "outputId": "2d5fd173-1b65-4c13-d328-61f450d7f928"
      },
      "execution_count": 2,
      "outputs": [
        {
          "output_type": "stream",
          "name": "stdout",
          "text": [
            "a and b are equal\n"
          ]
        }
      ]
    },
    {
      "cell_type": "code",
      "source": [
        "a = 200\n",
        "b = 33\n",
        "if b > a:\n",
        "  print(\"b is greater than a\")\n",
        "elif a==b:\n",
        "  print(\"a and b are equal\")\n",
        "else:\n",
        "  print(\"a is greater than b\")"
      ],
      "metadata": {
        "colab": {
          "base_uri": "https://localhost:8080/"
        },
        "id": "bBn5mxxwpADD",
        "outputId": "a90d6831-fa24-4a5a-98ab-65b19a12724b"
      },
      "execution_count": 3,
      "outputs": [
        {
          "output_type": "stream",
          "name": "stdout",
          "text": [
            "a is greater than b\n"
          ]
        }
      ]
    },
    {
      "cell_type": "code",
      "source": [
        "if a > b: print(\"a is greater than b\")"
      ],
      "metadata": {
        "colab": {
          "base_uri": "https://localhost:8080/"
        },
        "id": "Ia8fxnlfpUNj",
        "outputId": "2194654e-a3bf-4cda-f615-e89fa7bda129"
      },
      "execution_count": 4,
      "outputs": [
        {
          "output_type": "stream",
          "name": "stdout",
          "text": [
            "a is greater than b\n"
          ]
        }
      ]
    },
    {
      "cell_type": "code",
      "source": [
        "a = 2\n",
        "b = 330\n",
        "print(\"A\") if a > b else print(\"B\")"
      ],
      "metadata": {
        "colab": {
          "base_uri": "https://localhost:8080/"
        },
        "id": "jxdk-lU7paor",
        "outputId": "5ea3c911-b752-40be-ceb0-10aff36eeb3f"
      },
      "execution_count": 6,
      "outputs": [
        {
          "output_type": "stream",
          "name": "stdout",
          "text": [
            "B\n"
          ]
        }
      ]
    },
    {
      "cell_type": "code",
      "source": [
        "a = 200\n",
        "b = 33\n",
        "c = 500\n",
        "if a > b and c > a:\n",
        "  print(\"Both conditions are True\")"
      ],
      "metadata": {
        "colab": {
          "base_uri": "https://localhost:8080/"
        },
        "id": "A231nAmRpmlU",
        "outputId": "9ecb9d6a-1ba2-4dc4-d260-d086741a9b9c"
      },
      "execution_count": 8,
      "outputs": [
        {
          "output_type": "stream",
          "name": "stdout",
          "text": [
            "Both conditions are True\n"
          ]
        }
      ]
    },
    {
      "cell_type": "code",
      "source": [
        "a = 200\n",
        "b = 33\n",
        "c = 500\n",
        "if a > b or c > a:\n",
        "  print(\"Both conditions are True\")"
      ],
      "metadata": {
        "colab": {
          "base_uri": "https://localhost:8080/"
        },
        "id": "Z7Z-sPWkpqlU",
        "outputId": "f05a5391-fee1-482b-8262-c4e77e3fff70"
      },
      "execution_count": 9,
      "outputs": [
        {
          "output_type": "stream",
          "name": "stdout",
          "text": [
            "Both conditions are True\n"
          ]
        }
      ]
    },
    {
      "cell_type": "code",
      "source": [
        "x = 41\n",
        "\n",
        "if x > 10:\n",
        "  print(\"Above ten,\")\n",
        "  if x > 20:\n",
        "    print(\"and also above 20!\")\n",
        "  else:\n",
        "    print(\"but not above 20.\")"
      ],
      "metadata": {
        "colab": {
          "base_uri": "https://localhost:8080/"
        },
        "id": "5ulMT2Wmp9Zk",
        "outputId": "ba4d9109-c2f2-4b22-bd0c-36d8089d2bd0"
      },
      "execution_count": 10,
      "outputs": [
        {
          "output_type": "stream",
          "name": "stdout",
          "text": [
            "Above ten,\n",
            "and also above 20!\n"
          ]
        }
      ]
    },
    {
      "cell_type": "code",
      "source": [
        "if x > 20:\n",
        "  print(\"above 20\")\n",
        "  if x > 30:\n",
        "    print(\"above 30\")\n",
        "    if x > 40:\n",
        "      print(\"above 40\")\n",
        "      if x > 50:\n",
        "        print(\"above 50\")\n",
        "      else:\n",
        "        print(\"below 50\")\n",
        "    else:\n",
        "      print(\"below 40\")\n",
        "  else:\n",
        "    print(\"below 30\")\n",
        "else:\n",
        "  print(\"below 20\")"
      ],
      "metadata": {
        "colab": {
          "base_uri": "https://localhost:8080/"
        },
        "id": "3tVMwfcEqY1b",
        "outputId": "1caf0c52-7f62-4616-839f-21a6b5910c27"
      },
      "execution_count": 18,
      "outputs": [
        {
          "output_type": "stream",
          "name": "stdout",
          "text": [
            "above 20\n",
            "above 30\n",
            "above 40\n",
            "below 50\n"
          ]
        }
      ]
    },
    {
      "cell_type": "markdown",
      "source": [
        "Example #1"
      ],
      "metadata": {
        "id": "57hrGNCTzU5T"
      }
    },
    {
      "cell_type": "code",
      "source": [
        "a = int(input(\"Input your age: \"))\n",
        "if a >= 17:\n",
        "  print(\"You are Qualified\")\n",
        "else:\n",
        " print(\"You are under Age\")"
      ],
      "metadata": {
        "colab": {
          "base_uri": "https://localhost:8080/"
        },
        "id": "mzSRxZNpzVNy",
        "outputId": "d0388690-97f6-4a53-c5c2-c80ea1160e9f"
      },
      "execution_count": 31,
      "outputs": [
        {
          "output_type": "stream",
          "name": "stdout",
          "text": [
            "Input your age: 16\n",
            "You are under Age\n"
          ]
        }
      ]
    },
    {
      "cell_type": "markdown",
      "source": [
        "Example #2"
      ],
      "metadata": {
        "id": "rrPo0ov91Aua"
      }
    },
    {
      "cell_type": "code",
      "source": [
        "a = int(input(\"Enter Number: \"))\n",
        "if a>1:\n",
        "  print(\"Positive\")\n",
        "elif a==0:\n",
        "  print(\"Zero\")\n",
        "else:\n",
        "  print(\"Negative\")"
      ],
      "metadata": {
        "colab": {
          "base_uri": "https://localhost:8080/"
        },
        "id": "OmLhlvPG1Fg6",
        "outputId": "fa76ac05-bbab-4b8e-e5d0-be92b7ba3381"
      },
      "execution_count": 32,
      "outputs": [
        {
          "output_type": "stream",
          "name": "stdout",
          "text": [
            "Enter Number: 0\n",
            "Zero\n"
          ]
        }
      ]
    },
    {
      "cell_type": "markdown",
      "source": [
        "Example #3"
      ],
      "metadata": {
        "id": "b2Z3n08C18Mq"
      }
    },
    {
      "cell_type": "code",
      "source": [
        "print(\"Write a program to determine if the grades are: If: Grade > = 75 / Passed, Grade = 74 / Remedial, Failed grade < 74\") \n",
        "print(\" \")\n",
        "print(\"Enter your grade: \")\n",
        "grade = int(input())\n",
        "if grade >= 75:\n",
        "  print(\"You have passed!\")\n",
        "elif grade == 74:\n",
        "  print(\"You need to take a remedial!\")\n",
        "else:\n",
        "  print(\"You failed!\")"
      ],
      "metadata": {
        "colab": {
          "base_uri": "https://localhost:8080/"
        },
        "id": "miijacy_19vK",
        "outputId": "a43768f7-2280-4922-f91d-2bf0efc8b018"
      },
      "execution_count": 37,
      "outputs": [
        {
          "output_type": "stream",
          "name": "stdout",
          "text": [
            "Write a program to determine if the grades are: If: Grade > = 75 / Passed, Grade = 74 / Remedial, Failed grade < 74\n",
            " \n",
            "Enter your grade: \n",
            "4\n",
            "You failed!\n"
          ]
        }
      ]
    }
  ]
}