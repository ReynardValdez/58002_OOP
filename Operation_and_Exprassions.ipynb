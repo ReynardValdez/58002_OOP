{
  "nbformat": 4,
  "nbformat_minor": 0,
  "metadata": {
    "colab": {
      "provenance": [],
      "authorship_tag": "ABX9TyP0LbDTRqVHx/4DZbIysfyq",
      "include_colab_link": true
    },
    "kernelspec": {
      "name": "python3",
      "display_name": "Python 3"
    },
    "language_info": {
      "name": "python"
    }
  },
  "cells": [
    {
      "cell_type": "markdown",
      "metadata": {
        "id": "view-in-github",
        "colab_type": "text"
      },
      "source": [
        "<a href=\"https://colab.research.google.com/github/ReynardValdez/58002_OOP/blob/main/Operation_and_Exprassions.ipynb\" target=\"_parent\"><img src=\"https://colab.research.google.com/assets/colab-badge.svg\" alt=\"Open In Colab\"/></a>"
      ]
    },
    {
      "cell_type": "markdown",
      "source": [
        "Application I Create an arithmetic calculator (MDAS)"
      ],
      "metadata": {
        "id": "DoAtyDsDMMkF"
      }
    },
    {
      "cell_type": "code",
      "source": [
        "print(\"basic calculator\")\n",
        "print(\"enter first number\")\n",
        "x = int(input())\n",
        "print(\"enter second number\")\n",
        "y = int(input())\n",
        "z = \"answers: \"\n",
        "\n",
        "print(z)\n",
        "print(x+y)\n",
        "print(x-y)\n",
        "print(x*y)\n",
        "print(x/y)\n",
        "print(x%y)"
      ],
      "metadata": {
        "colab": {
          "base_uri": "https://localhost:8080/"
        },
        "id": "35Wkic8UMSkP",
        "outputId": "93ac112f-d077-477f-c7a5-8b7390dcfcf6"
      },
      "execution_count": 5,
      "outputs": [
        {
          "output_type": "stream",
          "name": "stdout",
          "text": [
            "basic calculator\n",
            "enter first number\n",
            "1\n",
            "enter second number\n",
            "2\n",
            "answers: \n",
            "3\n",
            "-1\n",
            "2\n",
            "0.5\n",
            "1\n"
          ]
        }
      ]
    }
  ]
}