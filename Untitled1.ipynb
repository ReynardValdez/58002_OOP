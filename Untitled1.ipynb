{
  "nbformat": 4,
  "nbformat_minor": 0,
  "metadata": {
    "colab": {
      "provenance": [],
      "authorship_tag": "ABX9TyOqqmorP+aeRO/KK0myLTRU",
      "include_colab_link": true
    },
    "kernelspec": {
      "name": "python3",
      "display_name": "Python 3"
    },
    "language_info": {
      "name": "python"
    }
  },
  "cells": [
    {
      "cell_type": "markdown",
      "metadata": {
        "id": "view-in-github",
        "colab_type": "text"
      },
      "source": [
        "<a href=\"https://colab.research.google.com/github/ReynardValdez/58002_OOP/blob/main/Untitled1.ipynb\" target=\"_parent\"><img src=\"https://colab.research.google.com/assets/colab-badge.svg\" alt=\"Open In Colab\"/></a>"
      ]
    },
    {
      "cell_type": "code",
      "execution_count": 3,
      "metadata": {
        "id": "eAahUnHHy_bP"
      },
      "outputs": [],
      "source": [
        "class Car:\n",
        "  car_type = \"Sedan\"\n",
        "\n",
        "  def __init__(self, name, mileage):\n",
        "    self.name = name\n",
        "    self.mileage = mileage\n",
        "\n",
        "  def description(self):\n",
        "    return \"The {self.name} car gives the mileage of {self.mileage}km/l\"\n",
        "\n",
        "  def max_speed(self, speed):\n",
        "    return \"The {self.name} car gives the mileage of {self.mileage}km/l\""
      ]
    },
    {
      "cell_type": "code",
      "source": [
        "#Creation of Class\n",
        "\n",
        "class myClass:     #name of class\n",
        "  y = 4            #property name\n",
        "\n",
        "p1 = myClass()       #Create an object name p1\n",
        "print(p1.y)          #print the value of y"
      ],
      "metadata": {
        "colab": {
          "base_uri": "https://localhost:8080/"
        },
        "id": "GzVmVAZv0ubV",
        "outputId": "ea5140c7-d7c1-43af-c871-4bc6f5e5f959"
      },
      "execution_count": 4,
      "outputs": [
        {
          "output_type": "stream",
          "name": "stdout",
          "text": [
            "4\n"
          ]
        }
      ]
    },
    {
      "cell_type": "code",
      "source": [
        "#Creation of Method\n",
        "\n",
        "class Persons:\n",
        "  def __init__(self,name,age):\n",
        "    self.name = name\n",
        "    self.age = age\n",
        "\n",
        "  def myfunction(self):\n",
        "    print(\"Hello, my name is\", self.name)\n",
        "\n",
        "teacher = Persons(\"Maria\",40)\n",
        "teacher.myfunction()"
      ],
      "metadata": {
        "colab": {
          "base_uri": "https://localhost:8080/"
        },
        "id": "t3FW1o151x6U",
        "outputId": "caea9a92-99cc-48c5-c44b-913c5e5844c8"
      },
      "execution_count": 11,
      "outputs": [
        {
          "output_type": "stream",
          "name": "stdout",
          "text": [
            "Hello, my name is Maria\n"
          ]
        }
      ]
    },
    {
      "cell_type": "code",
      "source": [
        "class Shapes:\n",
        "  def __init__(self,side):\n",
        "    self.side = side\n",
        "\n",
        "  def area(self):\n",
        "    return self.side *self.side\n",
        "\n",
        "  def display(self):\n",
        "    print(\"The area of the square is\",self.area())\n",
        "\n",
        "square = Shapes(5)\n",
        "print(square.area())\n",
        "print(square.display())"
      ],
      "metadata": {
        "colab": {
          "base_uri": "https://localhost:8080/"
        },
        "id": "P2gqu0kO2_A7",
        "outputId": "539b5627-aff4-418c-9795-4b73d440c749"
      },
      "execution_count": 10,
      "outputs": [
        {
          "output_type": "stream",
          "name": "stdout",
          "text": [
            "25\n",
            "The area of the square is 25\n",
            "None\n"
          ]
        }
      ]
    },
    {
      "cell_type": "code",
      "source": [
        "#Inheritance\n",
        "\n",
        "class Shapes:\n",
        "  def __init__(self,side1,side2):\n",
        "    self.side1 = side1\n",
        "    self.side2 = side2\n",
        "  \n",
        "class Square(Shapes):\n",
        "  def area_square(self):\n",
        "    return self.side1*self.side1\n",
        "  def display_square(self):\n",
        "    print(\"The area of square is\",self.area_square())\n",
        "\n",
        "\n",
        "class Rectangle(Shapes):\n",
        "  def area_rectangle(self):\n",
        "    print(self.side1*self.side2)\n",
        "  def display_rectangle(self):\n",
        "    print(\"The area of rectangle is\",self.display_rectangle())\n",
        "\n",
        "square = Square(4,4)\n",
        "\n",
        "rectangle = Rectangle(10,5)\n",
        "\n",
        "square.display_square()\n",
        "rectangle.display_rectangle()"
      ],
      "metadata": {
        "id": "4nMe-ygoAOWX"
      },
      "execution_count": null,
      "outputs": []
    }
  ]
}