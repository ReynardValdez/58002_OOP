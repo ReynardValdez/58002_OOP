{
  "nbformat": 4,
  "nbformat_minor": 0,
  "metadata": {
    "colab": {
      "provenance": [],
      "authorship_tag": "ABX9TyNGXbUDltA6FItAo/ezH+N0",
      "include_colab_link": true
    },
    "kernelspec": {
      "name": "python3",
      "display_name": "Python 3"
    },
    "language_info": {
      "name": "python"
    }
  },
  "cells": [
    {
      "cell_type": "markdown",
      "metadata": {
        "id": "view-in-github",
        "colab_type": "text"
      },
      "source": [
        "<a href=\"https://colab.research.google.com/github/ReynardValdez/58002_OOP/blob/main/Untitled1.ipynb\" target=\"_parent\"><img src=\"https://colab.research.google.com/assets/colab-badge.svg\" alt=\"Open In Colab\"/></a>"
      ]
    },
    {
      "cell_type": "code",
      "execution_count": 4,
      "metadata": {
        "colab": {
          "base_uri": "https://localhost:8080/"
        },
        "id": "Q9tEJGa90UhE",
        "outputId": "3c65180f-4db9-4f63-aa2d-ff3ae491869b"
      },
      "outputs": [
        {
          "output_type": "stream",
          "name": "stdout",
          "text": [
            "enter a radius\n",
            "40\n",
            "251.3274122872\n",
            "5026.54805744\n"
          ]
        }
      ],
      "source": [
        "print(\"enter a radius\")\n",
        "a = int(input())\n",
        "\n",
        "class Circle():\n",
        "  def __init__(self, radius):\n",
        "    self.radius = radius\n",
        "\n",
        "  def perimeter(self):\n",
        "    return 2*self.radius*3.14159265359\n",
        "\n",
        "  def area(self):\n",
        "    return self.radius**2*3.1415925359\n",
        "\n",
        "EnterCircle = Circle(a)\n",
        "print(EnterCircle.perimeter())\n",
        "print(EnterCircle.area())"
      ]
    }
  ]
}